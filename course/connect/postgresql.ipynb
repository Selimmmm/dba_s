{
 "cells": [
  {
   "cell_type": "markdown",
   "id": "5e532a4d",
   "metadata": {},
   "source": [
    "# Vérification des versions"
   ]
  },
  {
   "cell_type": "code",
   "execution_count": 1,
   "id": "3ad42087",
   "metadata": {},
   "outputs": [],
   "source": [
    "import sys\n",
    "assert sys.version_info.major == 3\n",
    "assert sys.version_info.minor == 11\n",
    "assert sys.version_info.micro == 2"
   ]
  },
  {
   "cell_type": "markdown",
   "id": "f5773fe6",
   "metadata": {},
   "source": [
    "# Connexion à PostgreSQL Local\n",
    "## <span style=\"color:red;\">remplacer avec vos credentials</span>"
   ]
  },
  {
   "cell_type": "code",
   "execution_count": 2,
   "id": "2137ce44",
   "metadata": {},
   "outputs": [],
   "source": [
    "import os\n",
    "from dotenv import load_dotenv\n",
    "# Ajouter aux variables environnementales celles contenues dans le .env\n",
    "load_dotenv(\"../../../.env\")\n",
    "\n",
    "USER = os.environ.get(\"POSTGRESQL_LOCAL_USER\")\n",
    "PASSWORD = os.environ.get(\"POSTGRESQL_LOCAL_PASSWORD\")"
   ]
  },
  {
   "cell_type": "code",
   "execution_count": 3,
   "id": "d563a2ae",
   "metadata": {},
   "outputs": [
    {
     "name": "stdout",
     "output_type": "stream",
     "text": [
      "('PostgreSQL 14.10 (Homebrew) on x86_64-apple-darwin19.6.0, compiled by Apple clang version 12.0.0 (clang-1200.0.32.21), 64-bit',)\n",
      "example_db\n",
      "postgres\n",
      "template0\n",
      "template1\n",
      "aimth_dev\n",
      "chd\n",
      "pca_mvp_db\n",
      "selim\n",
      "pca-local\n",
      "dbatest\n",
      "northwind\n"
     ]
    }
   ],
   "source": [
    "import psycopg2\n",
    "\n",
    "try:\n",
    "    # Establish a connection to the database\n",
    "    conn = psycopg2.connect(user=USER, password=PASSWORD, host=\"localhost\", port=\"5432\")\n",
    "\n",
    "    # Create a cursor object\n",
    "    cur = conn.cursor()\n",
    "\n",
    "    # Execute a query\n",
    "    cur.execute(\"SELECT version();\")\n",
    "\n",
    "    # Fetch and print the result of the query\n",
    "    db_version = cur.fetchone()\n",
    "    print(db_version)\n",
    "\n",
    "    # Execute a query to fetch all database names\n",
    "    cur.execute(\"SELECT datname FROM pg_database;\")\n",
    "\n",
    "    # Fetch all the results\n",
    "    databases = cur.fetchall()\n",
    "    for db in databases:\n",
    "        print(db[0])\n",
    "\n",
    "    # Close the cursor and connection\n",
    "    cur.close()\n",
    "    conn.close()\n",
    "\n",
    "except psycopg2.Error as e:\n",
    "    print(f\"Error connecting to PostgreSQL database: {e}\")"
   ]
  },
  {
   "cell_type": "code",
   "execution_count": null,
   "id": "432259d5",
   "metadata": {},
   "outputs": [],
   "source": []
  }
 ],
 "metadata": {
  "kernelspec": {
   "display_name": "ENV_DBA",
   "language": "python",
   "name": "env_dba"
  },
  "language_info": {
   "codemirror_mode": {
    "name": "ipython",
    "version": 3
   },
   "file_extension": ".py",
   "mimetype": "text/x-python",
   "name": "python",
   "nbconvert_exporter": "python",
   "pygments_lexer": "ipython3",
   "version": "3.11.2"
  }
 },
 "nbformat": 4,
 "nbformat_minor": 5
}

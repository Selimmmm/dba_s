{
 "cells": [
  {
   "cell_type": "markdown",
   "id": "9858ab43",
   "metadata": {},
   "source": [
    "# Exercice 1 \n",
    "-  Sélectionner les noms des produits (product_name) dont le prix (unit_price) est inférieur à la moyenne des prix des produits.\n",
    "\n"
   ]
  },
  {
   "cell_type": "markdown",
   "id": "c6ea320a",
   "metadata": {},
   "source": [
    "# Exercice 2\n",
    "- Sélectionner les product_name et unit_price des produits dont le prix est supérieur à la moyenne des prix des produits de leur propre catégorie"
   ]
  },
  {
   "cell_type": "markdown",
   "id": "cc5ea012",
   "metadata": {},
   "source": [
    "\n",
    "\n",
    "# Exercice 3\n",
    "- Sélectionner les noms des produits (product_name) pour lesquels il existe au moins un autre produit dans la catégorie d'id = 2 avec un prix unitaire supérieur.\n",
    "\n",
    "\n",
    "    "
   ]
  },
  {
   "cell_type": "markdown",
   "id": "e27352f9",
   "metadata": {},
   "source": [
    "# Exercice 4\n",
    "- Afficher les order_id, la date de commande (order_date), et le nom du destinataire (ship_name) pour les 10 premières commandes passées après le 1er janvier 1997, où la région de livraison (ship_region) est inconnue (NULL), et le pays de livraison (ship_country) n'est ni 'USA' ni 'UK'. Utiliser un alias pour renommer order_date en DateOfOrder. Les résultats doivent être classés selon la valeur de freight."
   ]
  }
 ],
 "metadata": {
  "kernelspec": {
   "display_name": "Python 3 (ipykernel)",
   "language": "python",
   "name": "python3"
  },
  "language_info": {
   "codemirror_mode": {
    "name": "ipython",
    "version": 3
   },
   "file_extension": ".py",
   "mimetype": "text/x-python",
   "name": "python",
   "nbconvert_exporter": "python",
   "pygments_lexer": "ipython3",
   "version": "3.9.7"
  }
 },
 "nbformat": 4,
 "nbformat_minor": 5
}

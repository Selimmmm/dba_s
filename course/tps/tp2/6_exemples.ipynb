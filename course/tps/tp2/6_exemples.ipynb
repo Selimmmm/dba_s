{
 "cells": [
  {
   "cell_type": "markdown",
   "metadata": {},
   "source": [
    "# Join avec deux tables"
   ]
  },
  {
   "cell_type": "markdown",
   "metadata": {},
   "source": [
    "```sql\n",
    "CREATE DATABASE joins;\n",
    "\n",
    "CREATE TABLE IF NOT EXISTS table1 (\n",
    "    id INT PRIMARY KEY,\n",
    "    name VARCHAR(50),\n",
    "    value INT\n",
    ");\n",
    "\n",
    "CREATE TABLE IF NOT EXISTS table2 (\n",
    "    id INT PRIMARY KEY,\n",
    "    name VARCHAR(50),\n",
    "    value INT\n",
    ");\n",
    "\n",
    "-- Insérer dans table1\n",
    "INSERT INTO table1 (id, name, value) VALUES (1, 'Hubert', 100);\n",
    "INSERT INTO table1 (id, name, value) VALUES (2, 'Jack', 200) ;\n",
    "INSERT INTO table1 (id, name, value) VALUES (5, 'Jean', 500) ;\n",
    "\n",
    "-- Insérer dans table2\n",
    "INSERT INTO table2 (id, name, value) VALUES (2, 'Jack', 200) ;\n",
    "INSERT INTO table2 (id, name, value) VALUES (3, 'Jacques', 300) ;\n",
    "INSERT INTO table2 (id, name, value) VALUES (4, 'Jax', 400) ;\n",
    "```"
   ]
  },
  {
   "cell_type": "markdown",
   "metadata": {},
   "source": [
    "```sql\n",
    "SELECT *\n",
    "FROM table1\n",
    "LEFT JOIN table2 ON table1.id = table2.id;\n",
    "```"
   ]
  },
  {
   "cell_type": "raw",
   "metadata": {},
   "source": [
    " id |  name  | value | id | name | value\n",
    "----+--------+-------+----+------+-------\n",
    "  1 | Hubert |   100 |    |      |\n",
    "  2 | Jack   |   200 |  2 | Jack |   200\n",
    "  5 | Jean   |   500 |    |      |\n",
    "(3 rows)"
   ]
  },
  {
   "cell_type": "markdown",
   "metadata": {},
   "source": [
    "```sql\n",
    "SELECT *\n",
    "FROM table1\n",
    "INNER JOIN table2 ON table1.id = table2.id;\n",
    "```"
   ]
  },
  {
   "cell_type": "raw",
   "metadata": {},
   "source": [
    " id | name | value | id | name | value\n",
    "----+------+-------+----+------+-------\n",
    "  2 | Jack |   200 |  2 | Jack |   200\n",
    "(1 row)"
   ]
  },
  {
   "cell_type": "markdown",
   "metadata": {},
   "source": [
    "```sql\n",
    "SELECT *\n",
    "FROM table1\n",
    "FULL OUTER JOIN table2 ON table1.id = table2.id;\n",
    "```"
   ]
  },
  {
   "cell_type": "raw",
   "metadata": {},
   "source": [
    " id |  name  | value | id |  name   | value\n",
    "----+--------+-------+----+---------+-------\n",
    "  1 | Hubert |   100 |    |         |\n",
    "  2 | Jack   |   200 |  2 | Jack    |   200\n",
    "  5 | Jean   |   500 |    |         |\n",
    "    |        |       |  4 | Jax     |   400\n",
    "    |        |       |  3 | Jacques |   300\n",
    "(5 rows)"
   ]
  },
  {
   "cell_type": "markdown",
   "metadata": {},
   "source": [
    "## Self Join : toutes les paire avec répétition A/B et B/A (et A/A)\n",
    "- répétition A/B et B/A et paires uniques : A/A"
   ]
  },
  {
   "cell_type": "markdown",
   "metadata": {},
   "source": [
    "```sql\n",
    "SELECT *\n",
    "FROM table1 AS first\n",
    "INNER JOIN table1 ON true;\n",
    "```"
   ]
  },
  {
   "cell_type": "raw",
   "metadata": {},
   "source": [
    " id |  name  | value | id |  name  | value\n",
    "----+--------+-------+----+--------+-------\n",
    "  1 | Hubert |   100 |  1 | Hubert |   100\n",
    "  1 | Hubert |   100 |  2 | Jack   |   200\n",
    "  1 | Hubert |   100 |  5 | Jean   |   500\n",
    "  2 | Jack   |   200 |  1 | Hubert |   100\n",
    "  2 | Jack   |   200 |  2 | Jack   |   200\n",
    "  2 | Jack   |   200 |  5 | Jean   |   500\n",
    "  5 | Jean   |   500 |  1 | Hubert |   100\n",
    "  5 | Jean   |   500 |  2 | Jack   |   200\n",
    "  5 | Jean   |   500 |  5 | Jean   |   500\n",
    "(9 rows)"
   ]
  },
  {
   "cell_type": "markdown",
   "metadata": {},
   "source": [
    "## Self Join : toutes les paires mais pas de répétition A/A\n",
    "- répétition A/B et B/A et mais pas les paires uniques : A/A"
   ]
  },
  {
   "cell_type": "markdown",
   "metadata": {},
   "source": [
    "```sql\n",
    "SELECT *\n",
    "FROM table1 AS first\n",
    "INNER JOIN table1 AS second ON first.id <> second.id;\n",
    "```"
   ]
  },
  {
   "cell_type": "raw",
   "metadata": {},
   "source": [
    " id |  name  | value | id |  name  | value\n",
    "----+--------+-------+----+--------+-------\n",
    "  1 | Hubert |   100 |  2 | Jack   |   200\n",
    "  1 | Hubert |   100 |  5 | Jean   |   500\n",
    "  2 | Jack   |   200 |  1 | Hubert |   100\n",
    "  2 | Jack   |   200 |  5 | Jean   |   500\n",
    "  5 | Jean   |   500 |  1 | Hubert |   100\n",
    "  5 | Jean   |   500 |  2 | Jack   |   200\n",
    "(6 rows)"
   ]
  },
  {
   "cell_type": "markdown",
   "metadata": {},
   "source": [
    "## Self Join : paire uniques et pas de répétition A/B & B/A\n",
    "- pas de répétition A/B et B/A avec `ON first.id < second.id;`\n",
    "- et donc pas non plus de lignes avec deux fois le même prénom"
   ]
  },
  {
   "cell_type": "markdown",
   "metadata": {},
   "source": [
    "```sql\n",
    "SELECT *\n",
    "FROM table1 AS first\n",
    "INNER JOIN table1 second ON first.id < second.id;\n",
    "```"
   ]
  },
  {
   "cell_type": "raw",
   "metadata": {},
   "source": [
    " id |  name  | value | id | name | value\n",
    "----+--------+-------+----+------+-------\n",
    "  1 | Hubert |   100 |  2 | Jack |   200\n",
    "  1 | Hubert |   100 |  5 | Jean |   500\n",
    "  2 | Jack   |   200 |  5 | Jean |   500\n",
    "(3 rows)"
   ]
  },
  {
   "cell_type": "markdown",
   "metadata": {},
   "source": []
  }
 ],
 "metadata": {
  "kernelspec": {
   "display_name": "Python 3 (ipykernel)",
   "language": "python",
   "name": "python3"
  },
  "language_info": {
   "codemirror_mode": {
    "name": "ipython",
    "version": 3
   },
   "file_extension": ".py",
   "mimetype": "text/x-python",
   "name": "python",
   "nbconvert_exporter": "python",
   "pygments_lexer": "ipython3",
   "version": "3.11.2"
  }
 },
 "nbformat": 4,
 "nbformat_minor": 4
}

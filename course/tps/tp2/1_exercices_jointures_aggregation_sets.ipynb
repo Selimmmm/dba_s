{
 "cells": [
  {
   "cell_type": "markdown",
   "id": "f4e626ba-a8af-460e-98a2-31e634374985",
   "metadata": {},
   "source": [
    "\n",
    "# Exercices sur les jointures\n",
    "\n",
    "## Exercice 1 : Left join \n",
    "- Rapatrier tous les order_id de la table orders et les customer_id correspondants, même si certains order_id n'ont pas de customer_id correspondant\n",
    "\n",
    "## Exercice 2 : Inner join\n",
    "- Rapatrier tous les order_id et customer_id de la table orders où il existe une correspondance entre les deux\n",
    "\n",
    "## Exercice 3 : Full outer join\n",
    "- Combiner toutes les lignes de orders et customers en utilisant un FULL OUTER JOIN sur customer_id, y compris les lignes sans correspondance\n",
    "\n",
    "## Exercice 4 : Self Join\n",
    "- Utiliser un self join sur la table customers pour trouver les paires de clients de la même ville\n",
    "\n",
    "# Exercices sur les Agrégations avec GROUP BY\n",
    "## Exercice 5 : Group By Basique\n",
    "- Grouper les commandes de la table orders par ship_country et compter le nombre de commandes pour chaque pays\n",
    "\n",
    "## Exercice 6 : Group By avec Fonction SUM()\n",
    "- Calculer le fret total (freight) par ship_country dans la table orders\n",
    "\n",
    "## Exercice 7 : Group By avec Join\n",
    "- Joindre orders et customers et calculer le nombre total de commandes pour chaque company_name\n",
    "\n",
    "## Exercice 8 : Group By avec Plusieurs Colonnes\n",
    "- Grouper les commandes par ship_city et ship_country dans orders, et calculer le fret total pour chaque groupe\n",
    "\n",
    "# Plusieurs clauses\n",
    "\n",
    "## Exercice 9 : \n",
    "- Grouper orders par ship_country et sélectionner les pays dont le fret total dépasse 1000 "
   ]
  },
  {
   "cell_type": "code",
   "execution_count": null,
   "id": "58641dab-58da-4497-bf20-c40af9cc43a5",
   "metadata": {},
   "outputs": [],
   "source": []
  }
 ],
 "metadata": {
  "kernelspec": {
   "display_name": "Python 3 (ipykernel)",
   "language": "python",
   "name": "python3"
  },
  "language_info": {
   "codemirror_mode": {
    "name": "ipython",
    "version": 3
   },
   "file_extension": ".py",
   "mimetype": "text/x-python",
   "name": "python",
   "nbconvert_exporter": "python",
   "pygments_lexer": "ipython3",
   "version": "3.11.2"
  }
 },
 "nbformat": 4,
 "nbformat_minor": 5
}

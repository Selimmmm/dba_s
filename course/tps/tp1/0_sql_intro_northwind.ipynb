{
 "cells": [
  {
   "cell_type": "markdown",
   "id": "550a923c",
   "metadata": {},
   "source": [
    "# TP-1 BDD NorthWind"
   ]
  },
  {
   "cell_type": "markdown",
   "id": "2e9034c3",
   "metadata": {},
   "source": [
    "# Import des données\n",
    "- Lancer PostgreSQL\n",
    "- Avec la méthode de votre choix (python, invite de commande, VS code...), créer une base de données appelée `northwind`:\n",
    "    ```sql\n",
    "    CREATE DATABASE northwind;\n",
    "    ```\n",
    "\n",
    "**Importer le script dans la base de données :**\n",
    "\n",
    "- Se déplacer dans le répertoire où le fichier SQL a été téléchargé\n",
    "- Utiliser la commande pour importer le script SQL dans la base de données créée, par exemple :\n",
    "  \n",
    "  ```bash\n",
    "  psql -U nom_utilisateur -d northwind -f data/northwind.sql\n",
    "  ```\n",
    "  \n",
    "  \n",
    "**Vérifier l'installation :**\n",
    "\n",
    "- Après l'importation, se connecter à la base de données Northwind : \\c northwind\n",
    "- Lister les tables pour confirmer leur création : \\dt\n"
   ]
  },
  {
   "cell_type": "markdown",
   "id": "b44c8358",
   "metadata": {},
   "source": [
    "# Northwind\n",
    "\n",
    "[Documentation officielle](https://learn.microsoft.com/fr-fr/power-apps/maker/canvas-apps/northwind-install)\n",
    "\n",
    "\n",
    "La base de données Northwind est un exemple créé par Microsoft. Elle est utilisée pour apprendre à utiliser différentes bases de données. \n",
    "\n",
    "# \"Relationship Diagram\"\n",
    "\n",
    "\n",
    "![Schema](../../images/northwind-er-diagram.png)"
   ]
  },
  {
   "cell_type": "markdown",
   "id": "fdb625f1",
   "metadata": {},
   "source": [
    "# Explorer la base de données"
   ]
  },
  {
   "cell_type": "markdown",
   "id": "28a02644",
   "metadata": {},
   "source": [
    "## Afficher les tables\n",
    "- Pour afficher la liste de toutes les tables dans la base de données Northwind :\n",
    "\n",
    "```sql\n",
    "\\dt\n",
    "```\n",
    "\n",
    "## Informations d'une table\n",
    "- Pour obtenir des informations sur la structure d'une table spécifiques :\n",
    "\n",
    "```sql\n",
    "\\d orders \n",
    "```\n",
    "\n",
    "\n",
    "## Données d'une table\n",
    "- Pour afficher les premières lignes d'une table :\n",
    "\n",
    "```sql\n",
    "SELECT * FROM customers LIMIT 10 ;\n",
    "```\n",
    "\n",
    "## Jointures\n",
    "\n",
    "- Pour joindre orders et customers :\n",
    "```sql\n",
    "SELECT o.order_id, c.customer_name\n",
    "FROM orders o\n",
    "JOIN customers c ON o.customer_id = c.customer_id;\n",
    "```\n",
    "\n",
    "\n",
    "## Aggrégation\n",
    "- Pour calculer le nombre total de commandes pour chaque client :\n",
    "\n",
    "```sql\n",
    "SELECT customer_id, COUNT(order_id) \n",
    "FROM orders \n",
    "GROUP BY customer_id;\n",
    "```\n",
    "\n",
    "### Requêtes Avancées\n",
    "- Pour des requêtes plus avancées, inclure des clauses WHERE, ORDER BY, et LIMIT. Par exemple, obtenir les 5 commandes les plus récentes :\n",
    "\n",
    "\n",
    "```sql\n",
    "SELECT * FROM orders \n",
    "ORDER BY order_date DESC \n",
    "LIMIT 5;\n",
    "```"
   ]
  },
  {
   "cell_type": "code",
   "execution_count": null,
   "id": "a51d3fee",
   "metadata": {},
   "outputs": [],
   "source": []
  }
 ],
 "metadata": {
  "kernelspec": {
   "display_name": "Python 3 (ipykernel)",
   "language": "python",
   "name": "python3"
  },
  "language_info": {
   "codemirror_mode": {
    "name": "ipython",
    "version": 3
   },
   "file_extension": ".py",
   "mimetype": "text/x-python",
   "name": "python",
   "nbconvert_exporter": "python",
   "pygments_lexer": "ipython3",
   "version": "3.9.7"
  }
 },
 "nbformat": 4,
 "nbformat_minor": 5
}

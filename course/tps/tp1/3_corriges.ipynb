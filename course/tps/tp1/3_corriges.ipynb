{
 "cells": [
  {
   "cell_type": "markdown",
   "id": "d2bfe3fc",
   "metadata": {},
   "source": [
    "# 1 \n",
    "\n",
    "```sql\n",
    "SELECT order_id, ship_name FROM orders \n",
    "WHERE (ship_country = 'Switzerland' OR ship_country = 'Argentina') AND freight > 20 ;\n",
    "```\n",
    "\n",
    "# 2\n",
    "```sql\n",
    "SELECT * FROM orders \n",
    "WHERE order_date BETWEEN '1997-01-01' AND '1997-12-31' \n",
    "ORDER BY freight DESC \n",
    "LIMIT 5 ;\n",
    "```\n",
    "\n",
    "# 3\n",
    "```sql\n",
    "SELECT DISTINCT ship_country, ship_city FROM orders ;\n",
    "```\n",
    "\n",
    "# 4\n",
    "```sql\n",
    "SELECT * FROM orders \n",
    "WHERE ship_country = 'Brazil' \n",
    "ORDER BY order_date \n",
    "LIMIT 3 ;\n",
    "```\n",
    "\n",
    "# 5\n",
    "```sql\n",
    "SELECT * FROM orders \n",
    "WHERE ship_region IS NULL \n",
    "ORDER BY shipped_date DESC ;\n",
    "```\n",
    "\n",
    "# 6\n",
    "```sql\n",
    "SELECT * FROM orders \n",
    "WHERE ship_name LIKE 'S%' ;\n",
    "```\n",
    "\n",
    "# 7\n",
    "```sql\n",
    "SELECT * FROM orders \n",
    "WHERE (ship_country = 'UK' OR ship_country = 'USA') \n",
    "AND freight > 50 \n",
    "AND order_date < '1998-01-01' ;\n",
    "```\n",
    "\n",
    "# 8\n",
    "```sql\n",
    "SELECT order_id, order_date AS DateOfOrder, ship_name \n",
    "FROM orders \n",
    "WHERE order_date > '1997-01-01' \n",
    "AND ship_region IS NULL \n",
    "AND ship_country NOT IN ('USA', 'UK') \n",
    "ORDER BY order_date \n",
    "LIMIT 10 ;\n",
    "```\n"
   ]
  },
  {
   "cell_type": "code",
   "execution_count": null,
   "id": "27cd73df",
   "metadata": {},
   "outputs": [],
   "source": []
  }
 ],
 "metadata": {
  "kernelspec": {
   "display_name": "Python 3 (ipykernel)",
   "language": "python",
   "name": "python3"
  },
  "language_info": {
   "codemirror_mode": {
    "name": "ipython",
    "version": 3
   },
   "file_extension": ".py",
   "mimetype": "text/x-python",
   "name": "python",
   "nbconvert_exporter": "python",
   "pygments_lexer": "ipython3",
   "version": "3.9.7"
  }
 },
 "nbformat": 4,
 "nbformat_minor": 5
}

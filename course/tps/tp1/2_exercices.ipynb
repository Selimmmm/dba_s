{
 "cells": [
  {
   "cell_type": "markdown",
   "id": "d057a88d",
   "metadata": {},
   "source": [
    "# Exercice 1: Sélection avec conditions multiples\n",
    "- Afficher tous les order_id et ship_name pour les commandes expédiées en Suisse (ship_country = 'Switzerland') ou en Argentine (ship_country = 'Argentina'), avec un freight supérieur à 20.\n"
   ]
  },
  {
   "cell_type": "markdown",
   "id": "9d76e5bc",
   "metadata": {},
   "source": [
    "# Exercice 2: Tri et limite sur sélection filtrée\n",
    "\n",
    "-  Trouver les 5 commandes ayant le plus haut freight, expédiées en 1997 (order_date BETWEEN '1997-01-01' AND '1997-12-31')."
   ]
  },
  {
   "cell_type": "markdown",
   "id": "ee152ee2",
   "metadata": {},
   "source": [
    "# Exercice 3: Utilisation de DISTINCT\n",
    "- Lister les combinaisons uniques de ship_country et ship_city pour toutes les commandes.\n"
   ]
  },
  {
   "cell_type": "markdown",
   "id": "75899e38",
   "metadata": {},
   "source": [
    "# Exercice 4: Combiner WHERE, ORDER BY et LIMIT\n",
    "- Afficher les 3 premières commandes (basées sur la order_date) pour les clients en Brésil (ship_country = 'Brazil')."
   ]
  },
  {
   "cell_type": "markdown",
   "id": "b309283f",
   "metadata": {},
   "source": [
    "\n",
    "# Exercice 5: Gestion des NULL avec tri et filtrage\n",
    "\n",
    "- Sélectionner toutes les commandes où ship_region est NULL, en les triant par shipped_date en ordre décroissant.\n"
   ]
  },
  {
   "cell_type": "markdown",
   "id": "6505f5a3",
   "metadata": {},
   "source": [
    "\n",
    "# Exercice 6: Utilisation de l'opérateur LIKE\n",
    "- Trouver les commandes dont le nom du destinataire (ship_name) commence par 'S'."
   ]
  },
  {
   "cell_type": "markdown",
   "id": "7a474bd5",
   "metadata": {},
   "source": [
    "# Exercice 7: Plusieurs avec AND, OR\n",
    "- Sélectionner les commandes expédiées en 'UK' ou 'USA' avec un freight supérieur à 50, et passées avant l'année 1998."
   ]
  },
  {
   "cell_type": "markdown",
   "id": "3df5459e",
   "metadata": {},
   "source": [
    "# Exercice 8: Requête plusieurs clauses\n",
    " - Afficher les order_id, la date de commande (order_date), et le nom du destinataire (ship_name) pour les 10 premières commandes passées après le 1er janvier 1997, où la région de livraison (ship_region) est inconnue (NULL), et le pays de livraison (ship_country) n'est ni 'USA' ni 'UK'. Utiliser un alias pour renommer order_date en DateOfOrder."
   ]
  },
  {
   "cell_type": "code",
   "execution_count": null,
   "id": "5bd3d122",
   "metadata": {},
   "outputs": [],
   "source": [
    "\n",
    "\n",
    "\n",
    " \n",
    "\n",
    "\n",
    "\n"
   ]
  }
 ],
 "metadata": {
  "kernelspec": {
   "display_name": "Python 3 (ipykernel)",
   "language": "python",
   "name": "python3"
  },
  "language_info": {
   "codemirror_mode": {
    "name": "ipython",
    "version": 3
   },
   "file_extension": ".py",
   "mimetype": "text/x-python",
   "name": "python",
   "nbconvert_exporter": "python",
   "pygments_lexer": "ipython3",
   "version": "3.9.7"
  }
 },
 "nbformat": 4,
 "nbformat_minor": 5
}

{
 "cells": [
  {
   "cell_type": "markdown",
   "id": "fe451ba7-b396-4156-998b-3e3027943214",
   "metadata": {},
   "source": [
    "# Exercice\n",
    "## 1 : Création et manipulation de table\n",
    "- Vous devez créer une base de données nommée test_db et une table items avec les colonnes suivantes : item_id (auto-increment), item_name (VARCHAR), price (DECIMAL), et in_stock (INT). Ensuite, insérez trois produits dans cette table.\n",
    "\n",
    "## 2 : Mise à jour et suppression\n",
    "- Mettez à jour le prix d'un produit. Ensuite, supprimez un produit de la table items. Après cela, renommez la table en products."
   ]
  },
  {
   "cell_type": "markdown",
   "id": "6bca1516-0e99-4eb2-b71a-6ded6b61a4cb",
   "metadata": {},
   "source": [
    "\n",
    "# 3 \n",
    "- Créez une base de données store_db, une table products avec des colonnes pour le nom (name), le prix (price), et la quantité (quantity). Insérez ensuite quelques produits dans cette table.\n",
    "\n",
    "# 4\n",
    "- Effectuez une série d'opérations comprenant :\n",
    "\n",
    "    - Sélection des produits avec un prix supérieur à la moyenne.\n",
    "    - Mise à jour du prix de certains produits.\n",
    "    - Suppression d'un produit.\n",
    "    - Ajout d'une colonne category.\n",
    "    - Utilisation de subqueries pour sélectionner les produits d'une certaine catégorie."
   ]
  },
  {
   "cell_type": "code",
   "execution_count": null,
   "id": "6a4f56ce-e090-4d39-9410-61d6fd42f1f7",
   "metadata": {},
   "outputs": [],
   "source": []
  }
 ],
 "metadata": {
  "kernelspec": {
   "display_name": "Python 3 (ipykernel)",
   "language": "python",
   "name": "python3"
  },
  "language_info": {
   "codemirror_mode": {
    "name": "ipython",
    "version": 3
   },
   "file_extension": ".py",
   "mimetype": "text/x-python",
   "name": "python",
   "nbconvert_exporter": "python",
   "pygments_lexer": "ipython3",
   "version": "3.11.2"
  }
 },
 "nbformat": 4,
 "nbformat_minor": 5
}

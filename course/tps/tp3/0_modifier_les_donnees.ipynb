{
 "cells": [
  {
   "cell_type": "markdown",
   "id": "0d4cb64c",
   "metadata": {},
   "source": [
    "# Modifier les données\n",
    "\n",
    "**Vous pouvez bien sûr exécuter les commandes via l'invite de commande ou VS Code si vous le souhaitez**\n",
    "\n",
    "Exemples pour : \n",
    "\n",
    "- Création de table avec `CREATE`\n",
    "- Insertion de données `INSERT`\n",
    "- Mise à jour de données `UPDATE`\n",
    "- Suppression de données `DELETE`"
   ]
  },
  {
   "cell_type": "markdown",
   "id": "a7e4f273",
   "metadata": {},
   "source": [
    "### Setup Python / Environnement"
   ]
  },
  {
   "cell_type": "markdown",
   "id": "3c7bb1b7",
   "metadata": {},
   "source": [
    "- Installer le package `dotenv`"
   ]
  },
  {
   "cell_type": "markdown",
   "id": "85d494fa",
   "metadata": {},
   "source": [
    "```bash \n",
    "pip3 install python-dotenv\n",
    "``` "
   ]
  },
  {
   "cell_type": "code",
   "execution_count": 4,
   "id": "77e5bf7d",
   "metadata": {},
   "outputs": [
    {
     "name": "stdout",
     "output_type": "stream",
     "text": [
      "\u001b[33mDEPRECATION: Configuring installation scheme with distutils config files is deprecated and will no longer work in the near future. If you are using a Homebrew or Linuxbrew Python, please see discussion at https://github.com/Homebrew/homebrew-core/issues/76621\u001b[0m\n",
      "Requirement already satisfied: python-dotenv in /usr/local/lib/python3.9/site-packages (0.14.0)\n",
      "\u001b[33mWARNING: You are using pip version 21.3.1; however, version 23.3.2 is available.\n",
      "You should consider upgrading via the '/usr/local/opt/python@3.9/bin/python3.9 -m pip install --upgrade pip' command.\u001b[0m\n"
     ]
    }
   ],
   "source": [
    "# Point d'exclamation pour exécuter depuis le notebook\n",
    "!pip3 install python-dotenv"
   ]
  },
  {
   "cell_type": "markdown",
   "id": "ad12a49e",
   "metadata": {},
   "source": [
    "```bash\n",
    "# contenu du fichier .env (qui se trouve à la racine du repository)\n",
    "POSTGRESQL_LOCAL_USER=selim\n",
    "POSTGRESQL_LOCAL_PASSWORD=selim\n",
    "``` "
   ]
  },
  {
   "cell_type": "code",
   "execution_count": 2,
   "id": "4de40e7a",
   "metadata": {},
   "outputs": [],
   "source": [
    "import os\n",
    "from dotenv import load_dotenv\n",
    "# Ajouter aux variables environnementales celles contenues dans le .env\n",
    "load_dotenv(\"../../../.env\")\n",
    "\n",
    "USER = os.environ.get(\"POSTGRESQL_LOCAL_USER\")\n",
    "PASSWORD = os.environ.get(\"POSTGRESQL_LOCAL_PASSWORD\")\n"
   ]
  },
  {
   "cell_type": "code",
   "execution_count": 8,
   "id": "914e4515",
   "metadata": {},
   "outputs": [
    {
     "name": "stdout",
     "output_type": "stream",
     "text": [
      "Database created successfully.\n",
      "Table created successfully.\n",
      "0\n",
      "Data inserted successfully.\n",
      "2\n",
      "Multiple data inserted successfully.\n",
      "Data updated successfully.\n",
      "Data deleted successfully.\n"
     ]
    }
   ],
   "source": [
    "import psycopg2\n",
    "from psycopg2 import sql\n",
    "\n",
    "try:\n",
    "    # Connexion à PostgreSQL\n",
    "    conn = psycopg2.connect(user=USER, password=PASSWORD, host=\"localhost\", port=\"5432\")\n",
    "    conn.autocommit = True\n",
    "    cur = conn.cursor()\n",
    "\n",
    "    # Pour pouvoir ré exécuter le code\n",
    "    cur.execute(\"DROP DATABASE IF EXISTS example_db;\")\n",
    "\n",
    "    # Création d'une nouvelle base de données\n",
    "    cur.execute(\"CREATE DATABASE example_db;\")\n",
    "    print(\"Database created successfully.\")\n",
    "\n",
    "    # Connexion à la nouvelle base de données\n",
    "    conn.close()\n",
    "    conn = psycopg2.connect(\n",
    "        dbname=\"example_db\", \n",
    "        user=USER, \n",
    "        password=PASSWORD, \n",
    "        host=\"localhost\", \n",
    "        port=\"5432\"\n",
    "    )\n",
    "    cur = conn.cursor()\n",
    "\n",
    "    # Création d'une table\n",
    "    cur.execute(\"\"\"\n",
    "        CREATE TABLE IF NOT EXISTS products (\n",
    "            product_name VARCHAR(255) NOT NULL,\n",
    "            unit_price DECIMAL NOT NULL,\n",
    "            quantity INT NOT NULL\n",
    "        );\n",
    "    \"\"\")\n",
    "    print(\"Table created successfully.\")\n",
    "    \n",
    "    \n",
    "    cur.execute(\"\"\"SELECT * FROM products;\"\"\")\n",
    "    print(len(list(cur.fetchall())))\n",
    "\n",
    "    # Insertion de données\n",
    "    cur.execute(\"\"\"\n",
    "        INSERT INTO products (product_name, unit_price, quantity) \n",
    "        VALUES \n",
    "            ('Apple', 0.50, 100),\n",
    "            ('Banana', 0.30, 150);\n",
    "    \"\"\")\n",
    "    print(\"Data inserted successfully.\")\n",
    "\n",
    "    cur.execute(\"\"\"SELECT * FROM products;\"\"\")\n",
    "    print(len(list(cur.fetchall())))\n",
    "    \n",
    "    # Insertion de plusieurs lignes\n",
    "    cur.executemany(\"\"\"\n",
    "        INSERT INTO products (product_name, unit_price, quantity) \n",
    "        VALUES (%s, %s, %s);\n",
    "    \"\"\", [('Orange', 0.40, 200), ('Pear', 0.60, 120)])\n",
    "    print(\"Multiple data inserted successfully.\")\n",
    "\n",
    "    # Mise à jour des données\n",
    "    cur.execute(\"\"\"\n",
    "        UPDATE products \n",
    "        SET unit_price = 0.55 \n",
    "        WHERE product_name = 'Apple';\n",
    "    \"\"\")\n",
    "    print(\"Data updated successfully.\")\n",
    "\n",
    "    # Mise à jour avec JOIN (en supposant qu'une autre table existe)\n",
    "    # Exemple : UPDATE products SET ... FROM another_table WHERE products.id = another_table.product_id;\n",
    "\n",
    "    # Suppression des données\n",
    "    cur.execute(\"\"\"\n",
    "        DELETE FROM products \n",
    "        WHERE product_name = 'Banana';\n",
    "    \"\"\")\n",
    "    print(\"Data deleted successfully.\")\n",
    "\n",
    "\n",
    "    # Fermeture de la connexion\n",
    "    cur.close()\n",
    "    conn.close()\n",
    "\n",
    "except psycopg2.Error as e:\n",
    "    print(f\"Error connecting to PostgreSQL database: {e}\")"
   ]
  },
  {
   "cell_type": "markdown",
   "id": "b0e9acbc",
   "metadata": {},
   "source": [
    "# Transactions\n",
    "## Principe\n",
    "- Une transaction est une unité de travail qui comprend une ou plusieurs opérations\n",
    "- Les propriétés ACID (Atomicité, Cohérence, Isolation, Durabilité) garantissent l'intégrité des transactions.\n",
    "\n",
    "\n",
    "## Syntaxe\n",
    "- `BEGIN` : Commence une transaction.\n",
    "- `COMMIT` : Valide les modifications effectuées pendant la transaction.\n",
    "- `ROLLBACK` : Annule toutes les modifications non validées dans la transaction courante.\n",
    "\n",
    "**Avantages** : \n",
    "- Sécurité : Assure l'intégrité des données.\n",
    "- Consistance : Maintient la base de données dans un état cohérent.\n",
    "- Isolation : Protège les transactions des interférences mutuelles.\n",
    "\n",
    "**Inconvénients**\n",
    "- Complexité : Gestion supplémentaire dans le code.\n",
    "- Performance : Peut réduire la performance sur de grosses transactions.\n"
   ]
  },
  {
   "cell_type": "code",
   "execution_count": 3,
   "id": "6efcd4c0",
   "metadata": {},
   "outputs": [],
   "source": [
    "import psycopg2\n",
    "\n",
    "try:\n",
    "    # Connexion à la base de données PostgreSQL\n",
    "    conn = psycopg2.connect(user=USER, password=PASSWORD, host=\"localhost\", port=\"5432\")\n",
    "    cur = conn.cursor()\n",
    "\n",
    "    # Création d'une table 'accounts'\n",
    "    cur.execute(\"\"\"\n",
    "        DROP TABLE IF EXISTS accounts;\n",
    "        CREATE TABLE accounts (\n",
    "            nom VARCHAR(100) NOT NULL,\n",
    "            valeur DEC(15,2) NOT NULL\n",
    "        );\n",
    "    \"\"\")\n",
    "\n",
    "    # Début d'une transaction\n",
    "    cur.execute(\"BEGIN;\")\n",
    "\n",
    "    # Insertion d'un enregistrement dans la table 'accounts'\n",
    "    cur.execute(\"INSERT INTO accounts(nom, valeur) VALUES('Hubert', 10000);\")\n",
    "\n",
    "    # Mise à jour des données\n",
    "    cur.execute(\"UPDATE accounts SET valeur = valeur - 1500 WHERE nom = 'Hubert';\")\n",
    "\n",
    "    # Annulation des changements\n",
    "    cur.execute(\"ROLLBACK;\")\n",
    "\n",
    "    # Validation des changements\n",
    "    cur.execute(\"COMMIT;\")\n",
    "\n",
    "    # Fermeture de la connexion\n",
    "    cur.close()\n",
    "    conn.close()\n",
    "    \n",
    "except psycopg2.Error as e:\n",
    "    print(f\"Erreur de connexion à la base de données PostgreSQL : {e}\")"
   ]
  },
  {
   "cell_type": "code",
   "execution_count": null,
   "id": "23cb4c38",
   "metadata": {},
   "outputs": [],
   "source": []
  }
 ],
 "metadata": {
  "kernelspec": {
   "display_name": "ENV_DBA",
   "language": "python",
   "name": "env_dba"
  },
  "language_info": {
   "codemirror_mode": {
    "name": "ipython",
    "version": 3
   },
   "file_extension": ".py",
   "mimetype": "text/x-python",
   "name": "python",
   "nbconvert_exporter": "python",
   "pygments_lexer": "ipython3",
   "version": "3.11.2"
  }
 },
 "nbformat": 4,
 "nbformat_minor": 5
}

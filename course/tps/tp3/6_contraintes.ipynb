{
 "cells": [
  {
   "cell_type": "markdown",
   "id": "d665db6c-702e-49ee-846d-6a8be6277210",
   "metadata": {},
   "source": [
    "# Contraintes\n",
    "## Primary Key (Clé Primaire)\n",
    "- Objectif : Assurer l'unicité de chaque ligne dans une table.\n",
    "- Utilisation : Définie lors de la création d'une table ou ajoutée à une table existante.\n",
    "- Syntaxe : PRIMARY KEY.\n",
    "\n",
    "## Foreign Key (Clé Étrangère)\n",
    "- Objectif : Établir une relation entre les tables et assurer l'intégrité des références.\n",
    "- Utilisation : Définie lors de la création d'une nouvelle table ou ajoutée à des tables existantes.\n",
    "- Syntaxe : FOREIGN KEY.\n",
    "- \n",
    "## CHECK Constraint (Contrainte CHECK)\n",
    "- Objectif : Vérifier une condition spécifique (expression booléenne) sur les valeurs des colonnes.\n",
    "- Syntaxe : CHECK (condition).\n",
    "\n",
    "## UNIQUE Constraint (Contrainte UNIQUE)\n",
    "- Objectif : Garantir que toutes les valeurs d'une colonne ou d'un groupe de colonnes sont uniques dans une table.\n",
    "- Syntaxe : UNIQUE.\n",
    "  \n",
    "## NOT NULL Constraint (Contrainte NOT NULL)\n",
    "- Objectif : S'assurer qu'une colonne ne contient pas de valeurs NULL.\n",
    "- Syntaxe : NOT NULL.\n"
   ]
  },
  {
   "cell_type": "code",
   "execution_count": 4,
   "id": "36caac6d-1cc4-4156-9bae-3dfd6b16fc9c",
   "metadata": {},
   "outputs": [
    {
     "name": "stdout",
     "output_type": "stream",
     "text": [
      "Base de données 'test_db' créée avec succès.\n"
     ]
    }
   ],
   "source": [
    "import os\n",
    "from dotenv import load_dotenv\n",
    "# Ajouter aux variables environnementales celles contenues dans le .env\n",
    "load_dotenv(\"../../../.env\")\n",
    "\n",
    "USER = os.environ.get(\"POSTGRESQL_LOCAL_USER\")\n",
    "PASSWORD = os.environ.get(\"POSTGRESQL_LOCAL_PASSWORD\")\n",
    "\n",
    "import psycopg2\n",
    "\n",
    "try:\n",
    "    # Connexion à PostgreSQL\n",
    "    conn = psycopg2.connect(user=USER, password=PASSWORD, host=\"localhost\", port=\"5432\")\n",
    "    conn.autocommit = True\n",
    "    cur = conn.cursor()\n",
    "\n",
    "    # Création de la base de données example_db\n",
    "    cur.execute(\"DROP DATABASE example_db;\")\n",
    "    cur.execute(\"CREATE DATABASE example_db;\")\n",
    "    conn.commit()\n",
    "    print(\"Base de données 'test_db' créée avec succès.\")\n",
    "\n",
    "\n",
    "    # Connexion à la base de données example_db\n",
    "    conn.close()\n",
    "    conn = psycopg2.connect(dbname=\"example_db\", user=USER, password=PASSWORD, host=\"localhost\", port=\"5432\")\n",
    "    cur = conn.cursor()\n",
    "\n",
    "    \n",
    "    # Création d'une table avec une clé primaire\n",
    "    cur.execute(\"\"\"\n",
    "        CREATE TABLE users (\n",
    "            user_id SERIAL PRIMARY KEY,\n",
    "            username VARCHAR(50) UNIQUE NOT NULL,\n",
    "            email VARCHAR(100)\n",
    "        );\n",
    "    \"\"\")\n",
    "\n",
    "    # Création d'une table avec une clé étrangère\n",
    "    cur.execute(\"\"\"\n",
    "        CREATE TABLE orders (\n",
    "            order_id SERIAL PRIMARY KEY,\n",
    "            order_date DATE NOT NULL,\n",
    "            user_id INT,\n",
    "            FOREIGN KEY (user_id) REFERENCES users(user_id)\n",
    "        );\n",
    "    \"\"\")\n",
    "\n",
    "    # Ajout d'une contrainte CHECK\n",
    "    cur.execute(\"\"\"\n",
    "        ALTER TABLE users\n",
    "        ADD CHECK (char_length(username) > 4);\n",
    "    \"\"\")\n",
    "\n",
    "    # Fermeture de la connexion\n",
    "    cur.close()\n",
    "    conn.close()\n",
    "\n",
    "except psycopg2.Error as e:\n",
    "    print(f\"Erreur de connexion à la base de données PostgreSQL : {e}\")"
   ]
  }
 ],
 "metadata": {
  "kernelspec": {
   "display_name": "Python 3 (ipykernel)",
   "language": "python",
   "name": "python3"
  },
  "language_info": {
   "codemirror_mode": {
    "name": "ipython",
    "version": 3
   },
   "file_extension": ".py",
   "mimetype": "text/x-python",
   "name": "python",
   "nbconvert_exporter": "python",
   "pygments_lexer": "ipython3",
   "version": "3.11.2"
  }
 },
 "nbformat": 4,
 "nbformat_minor": 5
}

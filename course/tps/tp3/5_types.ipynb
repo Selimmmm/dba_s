{
 "cells": [
  {
   "cell_type": "markdown",
   "id": "f1f0878b-af1f-4493-ac15-79a454b8d8fd",
   "metadata": {},
   "source": [
    "# Types de Données de Base\n",
    "\n",
    "- Boolean : stocke les valeurs TRUE et FALSE.\n",
    "\n",
    "\n",
    "- CHAR, VARCHAR, et TEXT : gère différents types de caractères.\n",
    "    - CHAR(n) : chaîne de longueur fixe.\n",
    "    - VARCHAR(n) : chaîne de longueur variable.\n",
    "    - TEXT : texte de longueur illimitée.\n",
    "\n",
    "- NUMERIC : utilisé pour les nombres avec précision requise, par exemple pour la monnaie.\n",
    "\n",
    "- Integer : types entiers : SMALLINT, INT, BIGINT.\n",
    "\n",
    "- DATE : stocke les valeurs de date\n",
    "\n",
    "- Timestamp : pour les datetimes avec time zone, avec ou sans fuseau horaire.\n",
    "\n",
    "- Interval : représente une période, comme '2 jours' ou '1 an'.\n",
    "\n",
    "- TIME : heure précise dans une journée\n",
    "\n",
    "- UUID : type unique universel, généralement pour des identifiants uniques.\n",
    "\n",
    "- Array : stocke des tableaux de valeurs, comme des listes de nombres ou de textes.\n",
    "\n",
    "- hstore : paire clé/valeur pour stocker des données de manière flexible.\n",
    "\n",
    "- JSON : format json"
   ]
  },
  {
   "cell_type": "markdown",
   "id": "caccfabe-756b-40ac-8769-827e63eed193",
   "metadata": {},
   "source": [
    "# Illustration"
   ]
  },
  {
   "cell_type": "code",
   "execution_count": 10,
   "id": "adccf81b-68ee-482e-91a2-602a80b193b4",
   "metadata": {},
   "outputs": [],
   "source": [
    "import os\n",
    "from dotenv import load_dotenv\n",
    "# Ajouter aux variables environnementales celles contenues dans le .env\n",
    "load_dotenv(\"../../../.env\")\n",
    "\n",
    "USER = os.environ.get(\"POSTGRESQL_LOCAL_USER\")\n",
    "PASSWORD = os.environ.get(\"POSTGRESQL_LOCAL_PASSWORD\")\n"
   ]
  },
  {
   "cell_type": "code",
   "execution_count": 11,
   "id": "54a488e5-8e0d-4cae-a77c-f7a836132b50",
   "metadata": {},
   "outputs": [
    {
     "ename": "ObjectInUse",
     "evalue": "database \"example_types\" is being accessed by other users\nDETAIL:  There is 1 other session using the database.\n",
     "output_type": "error",
     "traceback": [
      "\u001b[0;31m---------------------------------------------------------------------------\u001b[0m",
      "\u001b[0;31mObjectInUse\u001b[0m                               Traceback (most recent call last)",
      "Cell \u001b[0;32mIn[11], line 18\u001b[0m\n\u001b[1;32m     16\u001b[0m \u001b[38;5;66;03m# Création d'une nouvelle base de données\u001b[39;00m\n\u001b[1;32m     17\u001b[0m cur \u001b[38;5;241m=\u001b[39m conn\u001b[38;5;241m.\u001b[39mcursor()\n\u001b[0;32m---> 18\u001b[0m \u001b[43mcur\u001b[49m\u001b[38;5;241;43m.\u001b[39;49m\u001b[43mexecute\u001b[49m\u001b[43m(\u001b[49m\u001b[38;5;124;43mf\u001b[39;49m\u001b[38;5;124;43m\"\u001b[39;49m\u001b[38;5;124;43mDROP DATABASE IF EXISTS \u001b[39;49m\u001b[38;5;132;43;01m{\u001b[39;49;00m\u001b[43mdb_name\u001b[49m\u001b[38;5;132;43;01m}\u001b[39;49;00m\u001b[38;5;124;43m\"\u001b[39;49m\u001b[43m)\u001b[49m\n\u001b[1;32m     19\u001b[0m cur\u001b[38;5;241m.\u001b[39mexecute(\u001b[38;5;124mf\u001b[39m\u001b[38;5;124m\"\u001b[39m\u001b[38;5;124mCREATE DATABASE \u001b[39m\u001b[38;5;132;01m{\u001b[39;00mdb_name\u001b[38;5;132;01m}\u001b[39;00m\u001b[38;5;124m\"\u001b[39m)\n\u001b[1;32m     20\u001b[0m cur\u001b[38;5;241m.\u001b[39mclose()\n",
      "\u001b[0;31mObjectInUse\u001b[0m: database \"example_types\" is being accessed by other users\nDETAIL:  There is 1 other session using the database.\n"
     ]
    }
   ],
   "source": [
    "import psycopg2\n",
    "from psycopg2.extensions import ISOLATION_LEVEL_AUTOCOMMIT\n",
    "\n",
    "# Connexion initiale pour créer/supprimer la base de données\n",
    "conn = psycopg2.connect(\n",
    "    #dbname=\"postgres\", \n",
    "    user=USER, \n",
    "    password=PASSWORD, \n",
    "    host=\"localhost\", \n",
    "    port=\"5432\"\n",
    ")\n",
    "conn.set_isolation_level(ISOLATION_LEVEL_AUTOCOMMIT)\n",
    "\n",
    "db_name = \"example_types\"\n",
    "\n",
    "# Création d'une nouvelle base de données\n",
    "cur = conn.cursor()\n",
    "cur.execute(f\"DROP DATABASE IF EXISTS {db_name}\")\n",
    "cur.execute(f\"CREATE DATABASE {db_name}\")\n",
    "cur.close()\n",
    "conn.close()\n",
    "\n",
    "conn = psycopg2.connect(\n",
    "    dbname=db_name, \n",
    "    user=USER, \n",
    "    password=PASSWORD, \n",
    "    host=\"localhost\", \n",
    "    port=\"5432\"\n",
    ")\n",
    "cur = conn.cursor()\n",
    "\n",
    "cur.execute(\"\"\"\n",
    "CREATE TABLE IF NOT EXISTS table_boolean (id SERIAL PRIMARY KEY, flag BOOLEAN);\n",
    "CREATE TABLE IF NOT EXISTS table_numeric (id SERIAL PRIMARY KEY, amount NUMERIC);\n",
    "CREATE TABLE IF NOT EXISTS table_integer (id SERIAL PRIMARY KEY, value INT);\n",
    "CREATE TABLE IF NOT EXISTS table_date (id SERIAL PRIMARY KEY, date_value DATE);\n",
    "CREATE TABLE IF NOT EXISTS table_timestamp (id SERIAL PRIMARY KEY, timestamp_value TIMESTAMP WITH TIME ZONE);\n",
    "CREATE TABLE IF NOT EXISTS table_interval (id SERIAL PRIMARY KEY, interval_value INTERVAL);\n",
    "CREATE TABLE IF NOT EXISTS table_time (id SERIAL PRIMARY KEY, time_value TIME);\n",
    "CREATE TABLE IF NOT EXISTS table_uuid (id SERIAL PRIMARY KEY, uuid_value UUID);\n",
    "CREATE TABLE IF NOT EXISTS table_array (id SERIAL PRIMARY KEY, array_value INT[]);\n",
    "\n",
    "CREATE TABLE IF NOT EXISTS table_json (id SERIAL PRIMARY KEY, json_value JSON);\n",
    "\"\"\")\n",
    "\n",
    "\n",
    "# HSTORE : activate extension\n",
    "# CREATE TABLE IF NOT EXISTS table_hstore (id SERIAL PRIMARY KEY, hstore_value HSTORE);\n",
    "# https://stackoverflow.com/questions/21909417/pgundefinedobject-error-type-hstore-does-not-exist-but-it-does\n",
    "\n",
    "import uuid\n",
    "import json\n",
    "\n",
    "cur.execute(\"INSERT INTO table_boolean (flag) VALUES (TRUE)\")\n",
    "cur.execute(\"INSERT INTO table_numeric (amount) VALUES (100.50)\")\n",
    "cur.execute(\"INSERT INTO table_integer (value) VALUES (42)\")\n",
    "cur.execute(\"INSERT INTO table_date (date_value) VALUES ('2023-01-01')\")\n",
    "cur.execute(\"INSERT INTO table_timestamp (timestamp_value) VALUES ('2023-01-01T12:00:00Z')\")\n",
    "cur.execute(\"INSERT INTO table_interval (interval_value) VALUES ('1 year 2 months')\")\n",
    "cur.execute(\"INSERT INTO table_time (time_value) VALUES ('12:00:00')\")\n",
    "cur.execute(\"INSERT INTO table_uuid (uuid_value) VALUES (%s)\", (str(uuid.uuid4()),))\n",
    "cur.execute(\"INSERT INTO table_array (array_value) VALUES (ARRAY[1,2,3])\")\n",
    "# cur.execute(\"INSERT INTO table_hstore (hstore_value) VALUES ('key1=>value1, key2=>value2')\")\n",
    "cur.execute(\"INSERT INTO table_json (json_value) VALUES (%s)\", (json.dumps({\"key\": \"value\"}),))\n",
    "\n",
    "# Validation des modifications\n",
    "conn.commit()\n",
    "\n",
    "# Fermeture de la connexion\n",
    "cur.close()\n",
    "conn.close()"
   ]
  },
  {
   "cell_type": "code",
   "execution_count": null,
   "id": "cd8c73fd-6f8b-446c-8d6a-a6e15e2d7722",
   "metadata": {},
   "outputs": [],
   "source": []
  }
 ],
 "metadata": {
  "kernelspec": {
   "display_name": "Python 3 (ipykernel)",
   "language": "python",
   "name": "python3"
  },
  "language_info": {
   "codemirror_mode": {
    "name": "ipython",
    "version": 3
   },
   "file_extension": ".py",
   "mimetype": "text/x-python",
   "name": "python",
   "nbconvert_exporter": "python",
   "pygments_lexer": "ipython3",
   "version": "3.11.2"
  }
 },
 "nbformat": 4,
 "nbformat_minor": 5
}

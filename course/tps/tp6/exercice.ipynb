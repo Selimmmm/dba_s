{
 "cells": [
  {
   "cell_type": "markdown",
   "metadata": {},
   "source": [
    "# Exercice "
   ]
  },
  {
   "cell_type": "markdown",
   "metadata": {},
   "source": [
    "**Ecrire avec Python, psycopg2 et pymongo, un ORM compatible avec MongoDb et PostgreSQL**\n",
    "\n",
    "Coder une classe abstraite Orm  qui hérite de la classe `ABC` \n",
    "    (cf : https://python-course.eu/oop/the-abc-of-abstract-base-classes.php)\n",
    "\n",
    "    \n",
    "Coder deux classes concrètes OrmMongo et OrmSql qui contiennent : \n",
    "\n",
    "- Une méthode `connect` qui permet de se connecter à une base de données appelée `db_name` (donnée en argument du constructeur, ie `orm = OrmXXX(db_name=...)`)\n",
    "\n",
    "- Une méthode `profile` qui renvoie des informations au sujet d'une table / collection (donnée en argument appelée `destination_name`)\n",
    "\n",
    "- Une méthode `insert_one` qui permet d'insérer dans une table ou une collection. La table ou la collection est donnée en argument appelé `destination_name`. L'objet à insérer, qui est toujours un dictionnaire (clef : colonne ou champ, valeur : valeur à insérer), est donné en argument et s'appelle `to_insert` \n",
    "\n",
    "- De même `delete` qui supprime une table ou une collection\n",
    "\n",
    "- De même `get_value_counts` prend en argument  `destination_name` (une table ou une collection) `field_name` (nom de champ ou de colonne) et renvoie un dictionnaire pour compter le nombre d'occurence de chaque valeur de `field_name`\n",
    "\n",
    "Tester toutes ces méthodes - veiller à ajouter des messages d'erreurs informatifs."
   ]
  },
  {
   "cell_type": "markdown",
   "metadata": {},
   "source": []
  },
  {
   "cell_type": "markdown",
   "metadata": {},
   "source": []
  },
  {
   "cell_type": "markdown",
   "metadata": {},
   "source": []
  }
 ],
 "metadata": {
  "language_info": {
   "name": "python"
  }
 },
 "nbformat": 4,
 "nbformat_minor": 2
}

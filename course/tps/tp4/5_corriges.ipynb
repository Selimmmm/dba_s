{
 "cells": [
  {
   "cell_type": "markdown",
   "id": "6551b4f2-1fbb-423e-a5e7-22bbc58aafe0",
   "metadata": {},
   "source": [
    "# 1"
   ]
  },
  {
   "cell_type": "markdown",
   "id": "e19d3ed2-5690-42fc-9b19-7975116874dd",
   "metadata": {},
   "source": [
    "```sql\n",
    "-- Avec Groupby\n",
    "SELECT od.order_id,\n",
    "CASE\n",
    "    WHEN SUM(od.quantity) >= 100 THEN 'Large order'\n",
    "    ELSE 'Small order'\n",
    "END\n",
    "FROM order_details od\n",
    "GROUP BY od.order_id\n",
    "\n",
    "\n",
    "\n",
    "-- Case et subqueries\n",
    "SELECT o.order_id, \n",
    "       (SELECT SUM(quantity)\n",
    "        FROM order_details od\n",
    "        WHERE od.order_id = o.order_id) AS total_quantity,\n",
    "       CASE \n",
    "           WHEN (SELECT SUM(quantity) FROM order_details od WHERE od.order_id = o.order_id) > 100 THEN 'Large Order'\n",
    "           ELSE 'Small Order'\n",
    "       END AS order_size\n",
    "FROM orders o;\n",
    "```"
   ]
  },
  {
   "cell_type": "markdown",
   "id": "911bb02a-185d-42ca-8805-5cc043c12ab1",
   "metadata": {},
   "source": [
    "# 2"
   ]
  },
  {
   "cell_type": "markdown",
   "id": "b0fb6a4b-9c1f-4294-a904-d3a18c27b6c6",
   "metadata": {},
   "source": [
    "### Méthode 1\n",
    "\n",
    "```sql\n",
    "SELECT o.order_id, \n",
    "       COALESCE(o.ship_region, 'Not Specified') AS ship_region,\n",
    "       (SELECT SUM(quantity) FROM order_details od WHERE od.order_id = o.order_id) AS total_quantity\n",
    "FROM orders o;\n",
    "```\n",
    "\n",
    "### Méthode 2 \n",
    "**(au cas où SUM(quantity) vaudrait NULL et qu'on souhaiterait garder des entiers)**\n",
    "\n",
    "```sql\n",
    "SELECT o.order_id, \n",
    "       COALESCE(o.ship_region, 'Not Specified') AS ship_region,\n",
    "       COALESCE((SELECT SUM(quantity) FROM order_details od WHERE od.order_id = o.order_id), 0) AS total_quantity\n",
    "FROM orders o;\n",
    "```"
   ]
  },
  {
   "cell_type": "markdown",
   "id": "e1ccbe54-28fa-4208-ac1d-750e85f31981",
   "metadata": {},
   "source": [
    "## 3\n",
    "\n",
    "Identifier\n",
    "```sql\n",
    "SELECT\n",
    "    firstname,\n",
    "    COUNT( firstname )\n",
    "FROM\n",
    "    people\n",
    "GROUP BY\n",
    "    firstname\n",
    "HAVING\n",
    "    COUNT( firstname ) > 1\n",
    "ORDER BY\n",
    "    firstname DESC;\n",
    "```\n",
    "\n",
    "Clause WHERE\n",
    "```sql\n",
    "DELETE FROM\n",
    "    people a\n",
    "        USING people b\n",
    "WHERE\n",
    "    a.id < b.id\n",
    "    AND a.firstname = b.firstname;\n",
    "```\n",
    "\n",
    "Table intermédiaire\n",
    "```sql\n",
    "\n",
    "\n",
    "CREATE TABLE people_temp (LIKE people);\n",
    "\n",
    "INSERT INTO people_temp(firstname, id)\n",
    "SELECT \n",
    "    DISTINCT ON (firstname) firstname,\n",
    "    id\n",
    "FROM people; \n",
    "\n",
    "DROP TABLE people;\n",
    "\n",
    "ALTER TABLE people_temp \n",
    "RENAME TO people; \n",
    "\n",
    "\n",
    "\n",
    "\n",
    "\n",
    "-- Autre solution (plus complexe)\n",
    "DELETE FROM people\n",
    "WHERE id IN (\n",
    "    SELECT id\n",
    "    FROM (\n",
    "        SELECT id, firstname, ROW_NUMBER() OVER (PARTITION BY firstname ORDER BY id) AS row_num\n",
    "        FROM people\n",
    "    ) AS duplicates\n",
    "    WHERE duplicates.row_num > 1\n",
    ");\n",
    "\n",
    "\n",
    "```"
   ]
  },
  {
   "cell_type": "code",
   "execution_count": null,
   "id": "b686e935-16f4-4d3a-91ec-21d1fb157b6a",
   "metadata": {},
   "outputs": [],
   "source": []
  }
 ],
 "metadata": {
  "kernelspec": {
   "display_name": "Python 3 (ipykernel)",
   "language": "python",
   "name": "python3"
  },
  "language_info": {
   "codemirror_mode": {
    "name": "ipython",
    "version": 3
   },
   "file_extension": ".py",
   "mimetype": "text/x-python",
   "name": "python",
   "nbconvert_exporter": "python",
   "pygments_lexer": "ipython3",
   "version": "3.11.2"
  }
 },
 "nbformat": 4,
 "nbformat_minor": 5
}

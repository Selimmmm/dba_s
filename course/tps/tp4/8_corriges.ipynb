{
 "cells": [
  {
   "cell_type": "markdown",
   "id": "42c45b88-af2a-4422-8563-11f38e78a5a1",
   "metadata": {},
   "source": [
    "# Ex 1"
   ]
  },
  {
   "cell_type": "markdown",
   "metadata": {},
   "source": [
    "```sql\n",
    "CREATE VIEW Summary AS\n",
    "SELECT\n",
    "    user_id,\n",
    "    AVG(number) AS average_number,\n",
    "    COUNT(id) AS total_responses,\n",
    "    SUM(CASE WHEN is_correct THEN 1 ELSE 0 END) AS correct_responses\n",
    "FROM answers\n",
    "GROUP BY user_id;\n",
    "\n",
    "SELECT * FROM Summary ;\n",
    "```"
   ]
  },
  {
   "cell_type": "markdown",
   "id": "98856d01-a394-4706-bbce-4bc628dd1f0e",
   "metadata": {},
   "source": [
    "-- version avec calculs par user et exercice\n",
    "```sql\n",
    "CREATE VIEW SummaryPerEx AS\n",
    "SELECT\n",
    "    user_id,\n",
    "    exercice_id,\n",
    "    SUM(number) AS total_number,\n",
    "    AVG(number) AS average_number,\n",
    "    COUNT(id) AS total_responses,\n",
    "    SUM(CASE WHEN is_correct THEN 1 ELSE 0 END) AS correct_responses\n",
    "FROM answers\n",
    "GROUP BY user_id, exercice_id;\n",
    "\n",
    "SELECT * FROM SummaryPerEx ;\n",
    "\n",
    "```"
   ]
  },
  {
   "cell_type": "raw",
   "id": "108da3ed-8f43-407f-9b34-ef3b7570ef26",
   "metadata": {},
   "source": [
    " user_id | exercice_id | total_number |   average_number    | total_responses | correct_responses\n",
    "---------+-------------+--------------+---------------------+-----------------+-------------------\n",
    "       1 |           1 |           25 | 12.5000000000000000 |               2 |                 1\n",
    "       3 |           3 |           30 | 30.0000000000000000 |               1 |                 0\n",
    "       2 |           2 |            5 |  5.0000000000000000 |               1 |                 1\n",
    "       2 |           1 |           20 | 20.0000000000000000 |               1 |                 1\n",
    "(4 rows)"
   ]
  },
  {
   "cell_type": "markdown",
   "id": "aae6d4ff-a82b-43bd-8c5d-ebbf6e7c6fec",
   "metadata": {},
   "source": [
    "## 2\n",
    "\n",
    "\n",
    "### Exemple de calcule de valeur correctes\n",
    "\n",
    "\n",
    "### Calcule du nombre de correct pour user_id = 1 et exercice_id = 1\n",
    "```sql\n",
    "    SELECT SUM(CASE WHEN is_correct THEN 1 ELSE 0 END) as total\n",
    "    FROM answers\n",
    "    WHERE answers.user_id = 1 AND answers.exercice_id = 1;\n",
    "```\n",
    "\n",
    "### Adaptation en fonction \n",
    "**Attention à bien utiliser : `$1` et `$2` lorsque vous variabilisez par rapport à l'exemple précédent**\n",
    "\n",
    "```sql\n",
    "CREATE OR REPLACE FUNCTION total_score(user_id INTEGER, exercice_id INTEGER)\n",
    "RETURNS INTEGER AS $$\n",
    "DECLARE\n",
    "    total INTEGER;\n",
    "BEGIN\n",
    "    SELECT SUM(CASE WHEN is_correct THEN 1 ELSE 0 END) INTO total\n",
    "    FROM answers\n",
    "    WHERE answers.user_id = $1 AND answers.exercice_id = $2;\n",
    "\n",
    "    RETURN total;\n",
    "END;\n",
    "$$ LANGUAGE plpgsql;\n",
    "\n",
    "```\n",
    "\n",
    "### Pour score en pourcent (#correct / #total de réponses)\n",
    "\n",
    "```sql\n",
    "CREATE OR REPLACE FUNCTION total_score_percentage(user_id INTEGER, exercice_id INTEGER)\n",
    "RETURNS FLOAT AS $$\n",
    "DECLARE\n",
    "    total_correct INTEGER;\n",
    "    total_answers INTEGER;\n",
    "BEGIN\n",
    "    -- #total\n",
    "    SELECT COUNT(*) INTO total_answers\n",
    "    FROM answers\n",
    "    WHERE answers.user_id = $1 AND answers.exercice_id = $2;\n",
    "\n",
    "    -- Si division par 0 dans le RETURN : il faut prévoir le cas\n",
    "    IF total_answers = 0 THEN\n",
    "        RETURN 0;\n",
    "    END IF;\n",
    "\n",
    "    -- #correct\n",
    "    SELECT SUM(CASE WHEN is_correct THEN 1 ELSE 0 END) INTO total_correct\n",
    "    FROM answers\n",
    "    WHERE answers.user_id = $1 AND answers.exercice_id = $2;\n",
    "\n",
    "    -- #correct / #total\n",
    "    RETURN (total_correct::FLOAT / total_answers) * 100;\n",
    "END;\n",
    "$$ LANGUAGE plpgsql;\n",
    "\n",
    "```"
   ]
  },
  {
   "cell_type": "raw",
   "metadata": {},
   "source": [
    "ex=# SELECT total_score_percentage(1, 1) AS score;\n",
    " score\n",
    "-------\n",
    "    50\n",
    "(1 row)"
   ]
  },
  {
   "cell_type": "markdown",
   "id": "46bd35b3-0f5c-4cdb-ba91-e992cb4fdaa0",
   "metadata": {},
   "source": [
    "# 3\n",
    "\n",
    "```sql\n",
    "CREATE OR REPLACE FUNCTION log_event()\n",
    "RETURNS TRIGGER AS $$\n",
    "BEGIN\n",
    "    -- Insérer un enregistrement dans log_table à chaque nouvel événement\n",
    "    INSERT INTO log_table (log_message) VALUES ('New event occurred: ' || NEW.event_name);\n",
    "\n",
    "    RETURN NEW;\n",
    "END;\n",
    "$$ LANGUAGE plpgsql;\n",
    "\n",
    "CREATE TRIGGER event_logger\n",
    "AFTER INSERT ON events\n",
    "FOR EACH ROW\n",
    "EXECUTE FUNCTION log_event();\n",
    "\n",
    "INSERT INTO events (event_name) VALUES ('Event 1');\n",
    "INSERT INTO events (event_name) VALUES ('Event 2');\n",
    "\n",
    "SELECT * FROM log_table;\n",
    "\n",
    "```\n",
    "\n"
   ]
  },
  {
   "cell_type": "raw",
   "id": "909c053c-a134-453e-b1ae-d1f3c9602306",
   "metadata": {},
   "source": [
    " log_id |         log_message         |         logged_at\n",
    "--------+-----------------------------+----------------------------\n",
    "      1 | New event occurred: Event 1 | 2023-11-02 13:26:11.086669\n",
    "      2 | New event occurred: Event 2 | 2023-11-02 13:26:11.103445\n",
    "(2 rows)"
   ]
  },
  {
   "cell_type": "code",
   "execution_count": null,
   "id": "0be0f12b-62f4-4be4-9668-481ef9c24ad5",
   "metadata": {},
   "outputs": [],
   "source": []
  }
 ],
 "metadata": {
  "kernelspec": {
   "display_name": "Python 3 (ipykernel)",
   "language": "python",
   "name": "python3"
  },
  "language_info": {
   "codemirror_mode": {
    "name": "ipython",
    "version": 3
   },
   "file_extension": ".py",
   "mimetype": "text/x-python",
   "name": "python",
   "nbconvert_exporter": "python",
   "pygments_lexer": "ipython3",
   "version": "3.11.2"
  }
 },
 "nbformat": 4,
 "nbformat_minor": 5
}

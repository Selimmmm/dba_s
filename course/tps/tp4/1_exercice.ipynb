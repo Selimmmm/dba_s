{
 "cells": [
  {
   "cell_type": "markdown",
   "metadata": {},
   "source": [
    "# Exercice \n",
    "\n",
    "- En générant des données aléatoires dans le langage de votre choix, reproduire le schéma Northwind en respectant les types (composé uniquement des tables `categories`, `products` et `suppliers`, on ne s'intéresse pas aux autres tables)."
   ]
  },
  {
   "cell_type": "markdown",
   "metadata": {},
   "source": []
  }
 ],
 "metadata": {
  "language_info": {
   "name": "python"
  }
 },
 "nbformat": 4,
 "nbformat_minor": 2
}

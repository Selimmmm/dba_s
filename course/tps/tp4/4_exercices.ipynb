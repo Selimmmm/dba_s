{
 "cells": [
  {
   "cell_type": "markdown",
   "id": "1b4327af-ee22-45e0-8253-d33857736d48",
   "metadata": {},
   "source": [
    "# Opérateurs"
   ]
  },
  {
   "cell_type": "markdown",
   "id": "b03b9817-11c2-465c-b9ca-bb01e83669f2",
   "metadata": {},
   "source": [
    "## Exercice 1 \n",
    "- En utilisant la base de données Northwind, identifier les commandes (orders) pour lesquelles la quantité totale (cf voir les valeurs de la variable quantity dans order_details) est supérieure à 100\n",
    "- On renverra juste deux colonnes dans les résultats :\n",
    "    - order_id\n",
    "    - une colonne qui vaut 'Large Order' (=>100) ou 'Small Order' (<100)"
   ]
  },
  {
   "cell_type": "markdown",
   "id": "511b185c-f7d1-43be-a998-3c268da80f2e",
   "metadata": {},
   "source": [
    "## Exercice 2\n",
    "\n",
    "- Sélectionner toutes les commandes (orders), en affichant leur région de livraison, et en remplaçant les régions manquantes par 'Not Specified'  Afficher également la quantité totale commandée pour chaque commande (order_details)\n",
    "\n"
   ]
  },
  {
   "cell_type": "markdown",
   "id": "e8e401b1-f258-4aea-8b9d-45178f1015ac",
   "metadata": {},
   "source": [
    "# Doublons"
   ]
  },
  {
   "cell_type": "markdown",
   "id": "445fd1d0-4797-4898-8423-f8d128e076fc",
   "metadata": {},
   "source": [
    "## Exercice 3\n",
    "\n",
    "- Créer une nouvelle table avec ce code :\n",
    "- \n",
    "```sql\n",
    "CREATE TABLE people(\n",
    "    id SERIAL PRIMARY KEY,\n",
    "    firstname VARCHAR(50) NOT NULL\n",
    ");\n",
    "\n",
    "-- 1 fois\n",
    "INSERT INTO people(firstname) values('Maxime');\n",
    "\n",
    "-- tous les autres en doublons\n",
    "INSERT INTO people(firstname) values('Max');\n",
    "INSERT INTO people(firstname) values('Marie');\n",
    "INSERT INTO people(firstname) values('Marion');\n",
    "\n",
    "INSERT INTO people(firstname) values('Max');\n",
    "INSERT INTO people(firstname) values('Marion');\n",
    "INSERT INTO people(firstname) values('Marie');\n",
    "\n",
    "INSERT INTO people(firstname) values('Marie');\n",
    "\n",
    "\n",
    "-- Vérifier : \n",
    "SELECT\n",
    "    firstname, \n",
    "    COUNT(firstname)\n",
    "FROM\n",
    "    people\n",
    "GROUP BY firstname;\n",
    "```\n",
    "\n",
    "- Écrire une requête utilisant GROUPBY et HAVING pour identifiers les doublons\n",
    "\n",
    "- Supprimer les doublons en utilisant ces différentes méthodes :\n",
    "    - Une table intermédiaire :\n",
    "        - On écrit les valeurs uniques dans une nouvelle table avec : `CREATE TABLE people_temp(LIKE people);`\n",
    "        - On supprime l'ancienne (people)\n",
    "        - On renomme la nouvelle\n",
    "    - Une clause WHERE\n"
   ]
  },
  {
   "cell_type": "code",
   "execution_count": null,
   "id": "052241fe-837d-4523-b7b1-e10ee27d8680",
   "metadata": {},
   "outputs": [],
   "source": []
  }
 ],
 "metadata": {
  "kernelspec": {
   "display_name": "Python 3 (ipykernel)",
   "language": "python",
   "name": "python3"
  },
  "language_info": {
   "codemirror_mode": {
    "name": "ipython",
    "version": 3
   },
   "file_extension": ".py",
   "mimetype": "text/x-python",
   "name": "python",
   "nbconvert_exporter": "python",
   "pygments_lexer": "ipython3",
   "version": "3.11.2"
  }
 },
 "nbformat": 4,
 "nbformat_minor": 5
}

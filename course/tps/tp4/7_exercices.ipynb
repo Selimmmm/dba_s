{
 "cells": [
  {
   "cell_type": "markdown",
   "id": "5de19274-3b92-434c-9d96-175a706cc653",
   "metadata": {},
   "source": [
    "# Création des données pour 1 & 2"
   ]
  },
  {
   "cell_type": "markdown",
   "id": "c28c3464-e9a5-4df9-a8b4-c6be285ca6e1",
   "metadata": {},
   "source": [
    "```sql\n",
    "-- Création de la base de données\n",
    "CREATE DATABASE advanced;\n",
    "\n",
    "-- Connexion à la base de données\n",
    "\\c advanced;\n",
    "\n",
    "-- Création de la table 'answers'\n",
    "CREATE TABLE answers (\n",
    "    id SERIAL PRIMARY KEY,\n",
    "    user_id INTEGER,\n",
    "    exercice_id INTEGER,\n",
    "    number INTEGER,\n",
    "    is_correct BOOLEAN\n",
    ");\n",
    "\n",
    "-- Création de la table 'exercice_stats'\n",
    "CREATE TABLE exercice_stats (\n",
    "    id SERIAL PRIMARY KEY,\n",
    "    exercice_id INTEGER,\n",
    "    user_id INTEGER,\n",
    "    cumulative_score INTEGER\n",
    ");\n",
    "\n",
    "\n",
    "-- Insérer des données dans 'answers'\n",
    "INSERT INTO answers (user_id, exercice_id, number, is_correct) VALUES (1, 1, 10, TRUE);\n",
    "INSERT INTO answers (user_id, exercice_id, number, is_correct) VALUES (1, 1, 15, FALSE);\n",
    "INSERT INTO answers (user_id, exercice_id, number, is_correct) VALUES (2, 1, 20, TRUE);\n",
    "INSERT INTO answers (user_id, exercice_id, number, is_correct) VALUES (2, 2, 5, TRUE);\n",
    "INSERT INTO answers (user_id, exercice_id, number, is_correct) VALUES (3, 3, 30, FALSE) ;\n",
    "```"
   ]
  },
  {
   "cell_type": "markdown",
   "id": "bcac3f35-3a71-45f1-9123-8d249b323f63",
   "metadata": {},
   "source": [
    "# Exercice 1\n",
    "\n",
    "- Créer une vue Summary qui calcule et affiche des informations agrégées concernant les réponses des utilisateurs :\n",
    "    - Valeur moyenne des réponses (number)\n",
    "    - Nombre total de réponses\n",
    "    - Nombre de bonnes réponses"
   ]
  },
  {
   "cell_type": "markdown",
   "id": "a00fafb3-e383-4bbb-af40-7ce1160ddf29",
   "metadata": {},
   "source": [
    "# Exercice 2\n",
    "- Écrire une fonction qui calcule le score total pour un utilisateur donné et un exercice donné\n",
    "- On appellera la fonction ainsi : `SELECT total_score(2, 1) AS score;`\n",
    "- **Entre BEGIN et END, on peut utiliser `$1` et `$2` pour désigner les arguments sans utiliser des noms qui mènent à des ambiguëtés, comme user_id et exercice_id**\n"
   ]
  },
  {
   "cell_type": "markdown",
   "id": "8dd05e10-6aef-4353-94ff-c82487b7db7c",
   "metadata": {},
   "source": [
    "# Exercice 3\n",
    "\n",
    "- On dispose de deux tables :\n",
    "\n",
    "```sql\n",
    "-- Création de la table 'events'\n",
    "CREATE TABLE events (\n",
    "    event_id SERIAL PRIMARY KEY,\n",
    "    event_name VARCHAR(255) NOT NULL,\n",
    "    occurred_at TIMESTAMP DEFAULT CURRENT_TIMESTAMP\n",
    ");\n",
    "\n",
    "-- Création de la table 'log_table'\n",
    "CREATE TABLE log_table (\n",
    "    log_id SERIAL PRIMARY KEY,\n",
    "    log_message VARCHAR(255) NOT NULL,\n",
    "    logged_at TIMESTAMP DEFAULT CURRENT_TIMESTAMP\n",
    ");\n",
    "```\n",
    "\n",
    "- Chaque fois qu'on écrit dans la table events, on souhaite qu'un trigger écrive automatiquement dans la table log_table : créer le trigger et le tester"
   ]
  },
  {
   "cell_type": "code",
   "execution_count": null,
   "id": "05e04f71-ed42-41cb-b7d5-079384d42987",
   "metadata": {},
   "outputs": [],
   "source": []
  }
 ],
 "metadata": {
  "kernelspec": {
   "display_name": "Python 3 (ipykernel)",
   "language": "python",
   "name": "python3"
  },
  "language_info": {
   "codemirror_mode": {
    "name": "ipython",
    "version": 3
   },
   "file_extension": ".py",
   "mimetype": "text/x-python",
   "name": "python",
   "nbconvert_exporter": "python",
   "pygments_lexer": "ipython3",
   "version": "3.11.2"
  }
 },
 "nbformat": 4,
 "nbformat_minor": 5
}

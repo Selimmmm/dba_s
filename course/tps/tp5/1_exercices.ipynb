{
 "cells": [
  {
   "cell_type": "markdown",
   "id": "6299dbe0-7747-4320-8e5a-80521a28d4e7",
   "metadata": {},
   "source": [
    "# Exercice 1 : \n",
    "\n",
    "- Migrer les données de la table employees de la base de données Northwind vers une collection MongoDB\n"
   ]
  },
  {
   "cell_type": "markdown",
   "id": "b3b224a6-5b86-49e1-9e03-ede4c3f2a415",
   "metadata": {},
   "source": [
    "# Exercice 2\n",
    "\n",
    "- L'objectif est de modéliser une partie de la base de données Northwind dans MongoDB, en créant des collections interconnectées. Les collections concernées seront employees, orders, et order_details. Chaque commande (order) doit référencer un employé (employee) et chaque détail de commande (order_detail) doit référencer une commande.\n",
    "\n",
    "    - Utiliser psycopg2 pour extraire les données des tables employees, orders, et order_details de Northwind. Transformer ces données en dictionnaires pour MongoDB.\n",
    "    - Créer trois collections dans MongoDB : employees, orders, et order_details.\n",
    "\n",
    "    - Insérer les données dans employees.\n",
    "    - Pour chaque insertion dans orders, ajouter une référence à l'employee_id.\n",
    "    - Pour chaque insertion dans order_details, ajouter une référence à l'order_id.\n",
    "\n",
    "- Effectuer une requête pour trouver toutes les commandes passées par un employé spécifique.\n",
    "- Effectuer une requête pour obtenir tous les détails d'une commande spécifique.\n"
   ]
  }
 ],
 "metadata": {
  "kernelspec": {
   "display_name": "Python 3 (ipykernel)",
   "language": "python",
   "name": "python3"
  },
  "language_info": {
   "codemirror_mode": {
    "name": "ipython",
    "version": 3
   },
   "file_extension": ".py",
   "mimetype": "text/x-python",
   "name": "python",
   "nbconvert_exporter": "python",
   "pygments_lexer": "ipython3",
   "version": "3.11.2"
  }
 },
 "nbformat": 4,
 "nbformat_minor": 5
}
